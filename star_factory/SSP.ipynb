{
 "cells": [
  {
   "cell_type": "code",
   "execution_count": 48,
   "metadata": {},
   "outputs": [],
   "source": [
    "import numpy as np\n",
    "import matplotlib.pyplot as plt\n",
    "import matplotlib.pylab as pl\n",
    "import pandas as pd\n",
    "from scipy import interpolate\n",
    "import functions as func"
   ]
  },
  {
   "cell_type": "code",
   "execution_count": 10,
   "metadata": {},
   "outputs": [],
   "source": [
    "isoch_files=['iso0.txt']\n",
    "\n",
    "def read_isochrones(isoch_files):\n",
    "\n",
    "    isochrones={}\n",
    "    AGE=[]\n",
    "    METALLICITY=[]\n",
    "\n",
    "    for file_name in isoch_files:\n",
    "        isoch_table=[]\n",
    "        mylines = []                             # Declare an empty list named mylines.\n",
    "        with open (file_name, 'rt') as myfile: # Open lorem.txt for reading text data.\n",
    "            for myline in myfile:                # For each line, stored as myline,\n",
    "                mylines.append(myline)           # add its contents to mylines.  \n",
    "        #print(len(mylines))\n",
    "        for i in range(len(mylines)):\n",
    "            if mylines[i][0] == '#':\n",
    "                continue\n",
    "            isoch=mylines[i].split()\n",
    "            for j in range(len(isoch)):\n",
    "                isoch[j]=float(isoch[j])\n",
    "            isoch_table.append(isoch) \n",
    "        #print(mylines[13].split()[1:])\n",
    "        stellarpop=pd.DataFrame(isoch_table,columns=mylines[13].split()[1:])\n",
    "        stellarpop=stellarpop[stellarpop['label']!=9]  # drop Post AGB points because those mess with star generation!\n",
    "        logage=np.sort(stellarpop['logAge'].value_counts().index.tolist())\n",
    "        MHs = np.sort(stellarpop['MH'].value_counts().index.tolist())\n",
    "        #print(logage,MHs)\n",
    "        AGE.append(logage)\n",
    "        METALLICITY.append(MHs)\n",
    "        for age in logage:\n",
    "            for metallicity in MHs:\n",
    "                isochrones[f'logAge:{age:.2f}_MH:{metallicity:.2f}']=[[age,metallicity],stellarpop[(stellarpop['logAge']==age) & (stellarpop['MH']==metallicity)]]\n",
    "    parsec=[]\n",
    "    return (isochrones)\n",
    "#isochrone_names=list(isochrones.keys())\n"
   ]
  },
  {
   "cell_type": "code",
   "execution_count": 36,
   "metadata": {},
   "outputs": [],
   "source": [
    "def IMF_Kroupa(mass_lower_bound, \n",
    "                mass_upper_bound, \n",
    "                n_mass_grid=1000000, \n",
    "                alpha = [.3,1.3,2.3]):\n",
    "\n",
    "    \"\"\"Initial mass function\n",
    "\n",
    "    Calculate the Kroupa IMF.\n",
    "\n",
    "    Args:\n",
    "        masses (array): numpy vector. An array of mass between the min and max masses.\n",
    "        alpha (list): A list with three elements which are the Kroupa IMF slopes.\n",
    "\n",
    "    Returns:\n",
    "        array: An array\n",
    "    \"\"\"\n",
    "    #mass_min = np.min(isochrone[1]['Mini'])\n",
    "    #mass_max= np.max(isochrone[1]['Mini'])\n",
    "    mass_min = mass_lower_bound\n",
    "    mass_max = mass_upper_bound\n",
    "    mass_grid = np.linspace(mass_min,mass_max, n_mass_grid) # create the mass grid    \n",
    "    IMF = np.zeros(n_mass_grid, dtype = float)\n",
    "    dy1 = (np.power(.5,-alpha[2])-np.power(.5,-alpha[1]))\n",
    "    dy2 = dy1+(np.power(.08,-alpha[1])-np.power(.08,-alpha[0]))\n",
    "    for i,mass in enumerate(mass_grid):\n",
    "        #print(i,mass,alpha[1],IMF[i],np.power(mass,-alpha[0]))\n",
    "        if         mass <= .08 : IMF[i]=np.power(mass,-alpha[0])+dy2\n",
    "        elif .08 < mass <= .5  : IMF[i]=np.power(mass,-alpha[1])+dy1\n",
    "        else                   : IMF[i]=np.power(mass,-alpha[2])\n",
    "    #print(np.power(.5,-alpha[2]) )       \n",
    "    IMF = IMF/np.sum(IMF)\n",
    "    return mass_grid , IMF"
   ]
  },
  {
   "cell_type": "code",
   "execution_count": 42,
   "metadata": {},
   "outputs": [],
   "source": [
    "\n",
    "def stellar_mass_generator(n_stars, mass_grid, IMF):\n",
    "\n",
    "    generated_masses=np.random.choice(mass_grid, size=n_stars, replace=True, p=IMF) # generate new masses\n",
    "\n",
    "    return(generated_masses)\n"
   ]
  },
  {
   "cell_type": "code",
   "execution_count": 43,
   "metadata": {},
   "outputs": [],
   "source": [
    "mass_grid , IMF = IMF_Kroupa(mass_lower_bound = .01, \n",
    "                        mass_upper_bound = 5, \n",
    "                        n_mass_grid=1000000, \n",
    "                        alpha = [.3,1.3,2.3])\n"
   ]
  },
  {
   "cell_type": "code",
   "execution_count": 74,
   "metadata": {},
   "outputs": [],
   "source": [
    "def SSP_generator(isochrone_table, \n",
    "                    bands, \n",
    "                    n_stars, \n",
    "                    distandmodulus = 0,\n",
    "                    uncertainty = True,\n",
    "                    absolute_mag_features = np.array([4 , 5]),\n",
    "                    SN_feature = [10,10],\n",
    "                    uncertainty_param = [[-23.85588548 , 0.7982657 ], [-24.53558396 , 0.84130151]],\n",
    "                    plot = True): \n",
    "    # Input isochrone_table should be a dataframe.\n",
    "    # Input n_star is the number of generated stars.\n",
    "    mass_lower_bound = np.min(isochrone_table[1]['Mini'])\n",
    "    mass_upper_bound= np.max(isochrone_table[1]['Mini'])\n",
    "    \n",
    "    #IMF = IMF_Kroupa(mass_lower_bound = mass_lower_bound, mass_upper_bound = mass_upper_bound)\n",
    "    mass_grid , IMF = IMF_Kroupa(mass_lower_bound = mass_lower_bound, \n",
    "                                    mass_upper_bound = mass_upper_bound, \n",
    "                                    n_mass_grid=1000000, \n",
    "                                    alpha = [.3,1.3,2.3])\n",
    "    \n",
    "    #new_masses=random.choices(mass_bin, weights=IMF, k=n_stars) # generate new masses\n",
    "    #new_masses=np.random.choice(mass_bin, weights=IMF, k=n_stars) # generate new masses\n",
    "    new_masses = stellar_mass_generator(n_stars, mass_grid , IMF) # generate new masses\n",
    "\n",
    "\n",
    "    SSP = pd.DataFrame(new_masses , columns=['Mini'])           # make a df for the SSP\n",
    "\n",
    "    logAge = isochrone_table[0][0]\n",
    "    SSP['logAge']= np.full(n_stars,logAge)\n",
    "\n",
    "    MH = isochrone_table[0][1]\n",
    "    SSP['MH']= np.full(n_stars,MH)\n",
    "    \n",
    "    for band in bands:\n",
    "        x = isochrone_table[1]['Mini']\n",
    "        y = isochrone_table[1][band]\n",
    "        f = interpolate.interp1d(x, y)\n",
    "        #globals()[' %s' % band] = f(new_masses) \n",
    "        SSP[band] = f(new_masses)  # estimate the mags for the generated masses and add to the SSP\n",
    "\n",
    "        SSP[band] += distandmodulus\n",
    "    \n",
    "\n",
    "\n",
    "    distandmodulus = 24\n",
    "    #print('distandmodulus= ', distandmodulus)\n",
    "    mag_feature = absolute_mag_features + distandmodulus\n",
    "    SN_feature = [10,10]\n",
    "    #print('mag_feature=', mag_feature)\n",
    "\n",
    "    bands_unc_coef=[[-23.85588548 , 0.7982657 ], [-24.53558396 , 0.84130151]]  #IC1613\n",
    "\n",
    "    colour_min = -1\n",
    "    colour_max = 4\n",
    "\n",
    "    magnitude_max = mag_feature\n",
    "    magnitude_min = magnitude_max - 10\n",
    "\n",
    "    if uncertainty == True:\n",
    "        for b,band in enumerate(bands):\n",
    "            SSP[band] = SSP[band][( SSP[bands[1]] < magnitude_max[1]+1.193 )]\n",
    "            SSP[band] = add_uncerntaties(SSP[band],fit_param = uncertainty_param[b], mag_feature = mag_feature[b], SN_feature = SN_feature[b])[0]\n",
    "            SSP[band] = SSP[band][( SSP[bands[1]] < magnitude_max[1]+1.193 )]\n",
    "\n",
    "\n",
    "\n",
    "    if plot == True:\n",
    "        a = SSP[bands[0]]\n",
    "        b = SSP[bands[1]]\n",
    "\n",
    "        x = a-b\n",
    "        y = b\n",
    "\n",
    "        #plt.scatter(x,y,s=10,c=SSP['Mini'])\n",
    "        plt.scatter(x,y,s=1)\n",
    "        #plt.scatter(stellarpop.F555Wmag-stellarpop.F814Wmag,stellarpop.F814Wmag,c=stellarpop.Mass,s=5, cmap='cool') #,label='logAGE=%.2f'%(logAGE)\n",
    "        plt.gca().invert_yaxis()\n",
    "        plt.xlabel(f'{bands[0]}-{bands[1]}')  #don't forget chanfe the axis title if you chose different bands!\n",
    "        pl.rcParams[\"figure.figsize\"] = (8,8)\n",
    "        #plt.xlim(colour_min,2)\n",
    "        #print(magnitude_max[1],magnitude_min[0])\n",
    "        #plt.ylim(magnitude_max[1],magnitude_min[0])\n",
    "        plt.ylabel(f'{bands[1]}')\n",
    "        plt.legend()\n",
    "        plt.show()\n",
    "    return SSP"
   ]
  },
  {
   "cell_type": "code",
   "execution_count": 77,
   "metadata": {},
   "outputs": [
    {
     "name": "stderr",
     "output_type": "stream",
     "text": [
      "No artists with labels found to put in legend.  Note that artists whose label start with an underscore are ignored when legend() is called with no argument.\n"
     ]
    },
    {
     "data": {
      "image/png": "[encoded data removed]",
      "text/plain": [
       "<Figure size 576x576 with 1 Axes>"
      ]
     },
     "metadata": {
      "needs_background": "light"
     },
     "output_type": "display_data"
    }
   ],
   "source": [
    "isoch_files=['iso0.txt']\n",
    "isochrones = read_isochrones(isoch_files)\n",
    "bands=['F606Wmag','F814Wmag']\n",
    "\n",
    "SSP = SSP_generator(isochrones[isochrone_names[0]], bands=bands, n_stars = 100000,uncertainty = True)"
   ]
  },
  {
   "cell_type": "code",
   "execution_count": 73,
   "metadata": {},
   "outputs": [
    {
     "name": "stderr",
     "output_type": "stream",
     "text": [
      "No artists with labels found to put in legend.  Note that artists whose label start with an underscore are ignored when legend() is called with no argument.\n"
     ]
    },
    {
     "data": {
      "image/png": "[encoded data removed]",
      "text/plain": [
       "<Figure size 576x576 with 1 Axes>"
      ]
     },
     "metadata": {
      "needs_background": "light"
     },
     "output_type": "display_data"
    }
   ],
   "source": [
    "a = SSP[bands[0]]\n",
    "b = SSP[bands[1]]\n",
    "\n",
    "x = a-b\n",
    "y = b\n",
    "\n",
    "#plt.scatter(x,y,s=10,c=SSP['Mini'])\n",
    "plt.scatter(x,y,s=1)\n",
    "#plt.scatter(stellarpop.F555Wmag-stellarpop.F814Wmag,stellarpop.F814Wmag,c=stellarpop.Mass,s=5, cmap='cool') #,label='logAGE=%.2f'%(logAGE)\n",
    "plt.gca().invert_yaxis()\n",
    "plt.xlabel(f'{bands[0]}-{bands[1]}')  #don't forget chanfe the axis title if you chose different bands!\n",
    "pl.rcParams[\"figure.figsize\"] = (8,8)\n",
    "#plt.xlim(colour_min,2)\n",
    "#print(magnitude_max[1],magnitude_min[0])\n",
    "#plt.ylim(magnitude_max[1],magnitude_min[0])\n",
    "plt.ylabel(f'{bands[1]}')\n",
    "plt.legend()\n",
    "plt.show()"
   ]
  },
  {
   "cell_type": "code",
   "execution_count": null,
   "metadata": {},
   "outputs": [],
   "source": []
  },
  {
   "cell_type": "code",
   "execution_count": 64,
   "metadata": {},
   "outputs": [],
   "source": [
    "def add_uncerntaties(magnitudes,\n",
    "                        fit_param, \n",
    "                        mag_feature, \n",
    "                        SN_feature):\n",
    "    \n",
    "    # INPUT: \n",
    "    \n",
    "    # magnitudes: magnitudes of simulated sources\n",
    "    # fit param: best fit parameters found by fiting delra_m=exp(a+b*m) where m and delta_m are the magnitudes and magnitude uncertanties of the reference data for uncertainties!\n",
    "    # mag_feature: This is the apparant magnitude of your desired feature which you want to have the S/N ratio of SN_feature\n",
    "    # SN_feature: SN_feature for mag_feature\n",
    "    \n",
    "    #######################################\n",
    "    \n",
    "    # OUTPUT: \n",
    "    \n",
    "    # mag_with_unc: Input magnitudes + randon gaussian uncertainties\n",
    "    # delta_m_final: Sigma of random gaussian uncertainties\n",
    "    # exp_time_final: The ratio of needed exposure time to the exposure time of the reference data to get to SN_feature for mag_feature\n",
    "    \n",
    "    Xn = np.c_[np.ones(magnitudes.size), magnitudes]\n",
    "    delta_m_initial = poisonModel_Prediction_unc(fit_param, Xn)\n",
    "    delta_m_feature_initial = poisonModel_Prediction_unc(fit_param, np.c_[np.ones(1), mag_feature])\n",
    "    \n",
    "    SN_feature_initial = 1/(10**(-.4*(-delta_m_feature_initial))-1)\n",
    "    exp_time_initial = 1\n",
    "    exp_time_final = exp_time_initial*(SN_feature/SN_feature_initial)**2\n",
    "    delta_m_final = np.abs(-2.5*np.log10(1 + ( (exp_time_initial/exp_time_final)**.5*(10**(-.4*-delta_m_initial)-1) ) ))\n",
    "    mag_with_unc = np.random.normal(magnitudes, delta_m_final, magnitudes.shape[0])\n",
    "    return mag_with_unc,delta_m_final,exp_time_final\n",
    "\n",
    "def poisonModel_Prediction_unc(b,X):\n",
    "    yhat = np.exp(X @ b)\n",
    "    return yhat"
   ]
  },
  {
   "cell_type": "code",
   "execution_count": null,
   "metadata": {},
   "outputs": [],
   "source": []
  },
  {
   "cell_type": "code",
   "execution_count": null,
   "metadata": {},
   "outputs": [],
   "source": []
  },
  {
   "cell_type": "code",
   "execution_count": 16,
   "metadata": {},
   "outputs": [
    {
     "ename": "NameError",
     "evalue": "name 'IMF_Kroupa' is not defined",
     "output_type": "error",
     "traceback": [
      "\u001b[0;31m---------------------------------------------------------------------------\u001b[0m",
      "\u001b[0;31mNameError\u001b[0m                                 Traceback (most recent call last)",
      "\u001b[1;32m/home/codeastro/github/SSP_generator/star_factory/SSP.ipynb Cell 4'\u001b[0m in \u001b[0;36m<cell line: 2>\u001b[0;34m()\u001b[0m\n\u001b[1;32m      <a href='vscode-notebook-cell:/home/codeastro/github/SSP_generator/star_factory/SSP.ipynb#ch0000005?line=0'>1</a>\u001b[0m bands\u001b[39m=\u001b[39m[\u001b[39m'\u001b[39m\u001b[39mF606Wmag\u001b[39m\u001b[39m'\u001b[39m,\u001b[39m'\u001b[39m\u001b[39mF814Wmag\u001b[39m\u001b[39m'\u001b[39m]\n\u001b[0;32m----> <a href='vscode-notebook-cell:/home/codeastro/github/SSP_generator/star_factory/SSP.ipynb#ch0000005?line=1'>2</a>\u001b[0m SSP \u001b[39m=\u001b[39m SSP_generator(isochrones[isochrone_names[\u001b[39m0\u001b[39;49m]], bands, n_stars\u001b[39m=\u001b[39;49m\u001b[39m10000\u001b[39;49m )\n",
      "\u001b[1;32m/home/codeastro/github/SSP_generator/star_factory/SSP.ipynb Cell 3'\u001b[0m in \u001b[0;36mSSP_generator\u001b[0;34m(isochrone_table, bands, n_stars, n_mass_grid)\u001b[0m\n\u001b[1;32m      <a href='vscode-notebook-cell:/home/codeastro/github/SSP_generator/star_factory/SSP.ipynb#ch0000002?line=4'>5</a>\u001b[0m mass_max\u001b[39m=\u001b[39m np\u001b[39m.\u001b[39mmax(isochrone_table[\u001b[39m1\u001b[39m][\u001b[39m'\u001b[39m\u001b[39mMini\u001b[39m\u001b[39m'\u001b[39m])\n\u001b[1;32m      <a href='vscode-notebook-cell:/home/codeastro/github/SSP_generator/star_factory/SSP.ipynb#ch0000002?line=5'>6</a>\u001b[0m mass_bin\u001b[39m=\u001b[39mnp\u001b[39m.\u001b[39mlinspace(mass_min,mass_max, n_mass_grid) \u001b[39m# creat the mass grid\u001b[39;00m\n\u001b[0;32m----> <a href='vscode-notebook-cell:/home/codeastro/github/SSP_generator/star_factory/SSP.ipynb#ch0000002?line=7'>8</a>\u001b[0m IMF\u001b[39m=\u001b[39mIMF_Kroupa(mass_bin,[\u001b[39m.3\u001b[39m,\u001b[39m1.3\u001b[39m,\u001b[39m2.3\u001b[39m]) \n\u001b[1;32m      <a href='vscode-notebook-cell:/home/codeastro/github/SSP_generator/star_factory/SSP.ipynb#ch0000002?line=8'>9</a>\u001b[0m new_masses\u001b[39m=\u001b[39mrandom\u001b[39m.\u001b[39mchoices(mass_bin, weights\u001b[39m=\u001b[39mIMF, k\u001b[39m=\u001b[39mn_stars) \u001b[39m# generate new masses\u001b[39;00m\n\u001b[1;32m     <a href='vscode-notebook-cell:/home/codeastro/github/SSP_generator/star_factory/SSP.ipynb#ch0000002?line=9'>10</a>\u001b[0m SSP \u001b[39m=\u001b[39m pd\u001b[39m.\u001b[39mDataFrame(new_masses , columns\u001b[39m=\u001b[39m[\u001b[39m'\u001b[39m\u001b[39mMini\u001b[39m\u001b[39m'\u001b[39m])           \u001b[39m# make a df for the SSP\u001b[39;00m\n",
      "\u001b[0;31mNameError\u001b[0m: name 'IMF_Kroupa' is not defined"
     ]
    }
   ],
   "source": [
    "bands=['F606Wmag','F814Wmag']\n",
    "SSP = SSP_generator(isochrones[isochrone_names[0]], bands, n_stars=10000 )#print(SSP.head())"
   ]
  },
  {
   "cell_type": "code",
   "execution_count": 13,
   "metadata": {},
   "outputs": [
    {
     "ename": "NameError",
     "evalue": "name 'SSP' is not defined",
     "output_type": "error",
     "traceback": [
      "\u001b[0;31m---------------------------------------------------------------------------\u001b[0m",
      "\u001b[0;31mNameError\u001b[0m                                 Traceback (most recent call last)",
      "\u001b[1;32m/home/codeastro/github/SSP_generator/star_factory/SSP.ipynb Cell 5'\u001b[0m in \u001b[0;36m<cell line: 1>\u001b[0;34m()\u001b[0m\n\u001b[0;32m----> <a href='vscode-notebook-cell:/home/codeastro/github/SSP_generator/star_factory/SSP.ipynb#ch0000006?line=0'>1</a>\u001b[0m SSP\n",
      "\u001b[0;31mNameError\u001b[0m: name 'SSP' is not defined"
     ]
    }
   ],
   "source": [
    "SSP"
   ]
  },
  {
   "cell_type": "code",
   "execution_count": null,
   "metadata": {},
   "outputs": [],
   "source": []
  },
  {
   "cell_type": "code",
   "execution_count": null,
   "metadata": {},
   "outputs": [],
   "source": []
  },
  {
   "cell_type": "code",
   "execution_count": null,
   "metadata": {},
   "outputs": [],
   "source": []
  }
 ],
 "metadata": {
  "kernelspec": {
   "display_name": "Python 3.10.4 ('codeastro')",
   "language": "python",
   "name": "python3"
  },
  "language_info": {
   "codemirror_mode": {
    "name": "ipython",
    "version": 3
   },
   "file_extension": ".py",
   "mimetype": "text/x-python",
   "name": "python",
   "nbconvert_exporter": "python",
   "pygments_lexer": "ipython3",
   "version": "3.10.4"
  },
  "orig_nbformat": 4,
  "vscode": {
   "interpreter": {
    "hash": "6f4f9973bdffcb645d403ef60d65ab4530553fabb36fdeabec98c0e8549950b2"
   }
  }
 },
 "nbformat": 4,
 "nbformat_minor": 2
}
