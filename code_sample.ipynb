{
 "cells": [
  {
   "cell_type": "code",
   "execution_count": null,
   "metadata": {},
   "outputs": [],
   "source": [
    "import SSP_generator.functions as sf"
   ]
  },
  {
   "cell_type": "code",
   "execution_count": null,
   "metadata": {},
   "outputs": [],
   "source": [
    "isoch_files=['iso0.txt']\n",
    "bands=['F606Wmag','F814Wmag']\n",
    "SSP = sf.SSP_generator(isoch_files, bands=bands, n_stars = 100000, distandmodulus = 0, uncertainty = True, plot=True)"
   ]
  }
 ],
 "metadata": {
  "kernelspec": {
   "display_name": "Python 3.10.4 ('codeastro')",
   "language": "python",
   "name": "python3"
  },
  "language_info": {
   "codemirror_mode": {
    "name": "ipython",
    "version": 3
   },
   "file_extension": ".py",
   "mimetype": "text/x-python",
   "name": "python",
   "nbconvert_exporter": "python",
   "pygments_lexer": "ipython3",
   "version": "3.10.4"
  },
  "orig_nbformat": 4,
  "vscode": {
   "interpreter": {
    "hash": "6f4f9973bdffcb645d403ef60d65ab4530553fabb36fdeabec98c0e8549950b2"
   }
  }
 },
 "nbformat": 4,
 "nbformat_minor": 2
}
